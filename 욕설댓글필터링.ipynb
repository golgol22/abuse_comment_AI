{
  "nbformat": 4,
  "nbformat_minor": 0,
  "metadata": {
    "colab": {
      "name": "욕설댓글필터링.ipynb",
      "provenance": [],
      "collapsed_sections": []
    },
    "kernelspec": {
      "name": "python3",
      "display_name": "Python 3"
    },
    "language_info": {
      "name": "python"
    }
  },
  "cells": [
    {
      "cell_type": "markdown",
      "source": [
        "## 데이터 불러오기"
      ],
      "metadata": {
        "id": "Qt68x5eDS1KU"
      }
    },
    {
      "cell_type": "code",
      "execution_count": 1,
      "metadata": {
        "id": "YruLxrZciLPp",
        "colab": {
          "base_uri": "https://localhost:8080/"
        },
        "outputId": "58fc4c2e-377f-4e0f-f991-09d4a153ebb4"
      },
      "outputs": [
        {
          "output_type": "stream",
          "name": "stdout",
          "text": [
            "Mounted at /content/gdrive\n"
          ]
        }
      ],
      "source": [
        "from google.colab import drive\n",
        "drive.mount('/content/gdrive')"
      ]
    },
    {
      "cell_type": "code",
      "source": [
        "cd /content/gdrive/MyDrive/ColabNotebooks/sesac_딥러닝/project"
      ],
      "metadata": {
        "colab": {
          "base_uri": "https://localhost:8080/"
        },
        "id": "Y7d9Md7yS_DJ",
        "outputId": "3af7f666-d72e-4894-cdab-714a69d20959"
      },
      "execution_count": 2,
      "outputs": [
        {
          "output_type": "stream",
          "name": "stdout",
          "text": [
            "/content/gdrive/MyDrive/ColabNotebooks/sesac_딥러닝/project\n"
          ]
        }
      ]
    },
    {
      "cell_type": "code",
      "source": [
        "import pandas as pd\n",
        "\n",
        "# pd.set_option('display.max_rows', None) \n",
        "\n",
        "comment = pd.read_csv('./labeled_data.csv')"
      ],
      "metadata": {
        "id": "inxlnMKUTWy0"
      },
      "execution_count": 3,
      "outputs": []
    },
    {
      "cell_type": "markdown",
      "source": [
        "## 데이터 전처리\n",
        "- 영어제거\n",
        "- 특수문자 제거\n",
        "- 한글인지 확인"
      ],
      "metadata": {
        "id": "01kSUiCnUM8X"
      }
    },
    {
      "cell_type": "code",
      "source": [
        "# 영어 및 특수 문자 제거\n",
        "import re \n",
        "\n",
        "def cleanText(original):\n",
        "    text = re.sub('[-=+,#/\\?:;^-❛˓◞\\n\\r˂̵✧$.@*\\\"⭐�🚩💟※~&%ㆍ!』\\\\‘|\\(\\)\\[\\]\\<\\>`\\'…》]', '', str(original))\n",
        "    text = re.sub('[a-zA-z]','', text)\n",
        "    return text\n",
        "\n",
        "comment['data'] = comment['data'].apply(cleanText)\n",
        "comment"
      ],
      "metadata": {
        "id": "eEsLoFhgULCy",
        "colab": {
          "base_uri": "https://localhost:8080/",
          "height": 424
        },
        "outputId": "1296351a-13bf-4667-d6d6-dc8179d60423"
      },
      "execution_count": 4,
      "outputs": [
        {
          "output_type": "execute_result",
          "data": {
            "text/plain": [
              "                                                    data  label\n",
              "0                 힛갤가고서 힛갤곤볼한번 받아보고싶었는데 하루늦어서이걸못받네좀빨리만들껄    0.0\n",
              "1                                                3줄요약 ㄷㄷ    0.0\n",
              "2                                                     ㅋㅋ    0.0\n",
              "3                                            힛갤뱃지 나도줘요      0.0\n",
              "4                                                    나도줘    0.0\n",
              "...                                                  ...    ...\n",
              "53749  진짜 왜 공중화장실들은 소변기가 바로 직빵으로 보이게 되어있는거냐 문만 살짝살짝 열...    NaN\n",
              "53750                                              너무멋있어    NaN\n",
              "53751                               솔직히 남자화장실 다 보인느거 ㅈ가틈    NaN\n",
              "53752                                              6985추    NaN\n",
              "53753                                     들어가서 싸든가 그럼ㅋㅋ븅    NaN\n",
              "\n",
              "[53754 rows x 2 columns]"
            ],
            "text/html": [
              "\n",
              "  <div id=\"df-742ec16d-e861-44ce-b98e-99ef2d89b075\">\n",
              "    <div class=\"colab-df-container\">\n",
              "      <div>\n",
              "<style scoped>\n",
              "    .dataframe tbody tr th:only-of-type {\n",
              "        vertical-align: middle;\n",
              "    }\n",
              "\n",
              "    .dataframe tbody tr th {\n",
              "        vertical-align: top;\n",
              "    }\n",
              "\n",
              "    .dataframe thead th {\n",
              "        text-align: right;\n",
              "    }\n",
              "</style>\n",
              "<table border=\"1\" class=\"dataframe\">\n",
              "  <thead>\n",
              "    <tr style=\"text-align: right;\">\n",
              "      <th></th>\n",
              "      <th>data</th>\n",
              "      <th>label</th>\n",
              "    </tr>\n",
              "  </thead>\n",
              "  <tbody>\n",
              "    <tr>\n",
              "      <th>0</th>\n",
              "      <td>힛갤가고서 힛갤곤볼한번 받아보고싶었는데 하루늦어서이걸못받네좀빨리만들껄</td>\n",
              "      <td>0.0</td>\n",
              "    </tr>\n",
              "    <tr>\n",
              "      <th>1</th>\n",
              "      <td>3줄요약 ㄷㄷ</td>\n",
              "      <td>0.0</td>\n",
              "    </tr>\n",
              "    <tr>\n",
              "      <th>2</th>\n",
              "      <td>ㅋㅋ</td>\n",
              "      <td>0.0</td>\n",
              "    </tr>\n",
              "    <tr>\n",
              "      <th>3</th>\n",
              "      <td>힛갤뱃지 나도줘요</td>\n",
              "      <td>0.0</td>\n",
              "    </tr>\n",
              "    <tr>\n",
              "      <th>4</th>\n",
              "      <td>나도줘</td>\n",
              "      <td>0.0</td>\n",
              "    </tr>\n",
              "    <tr>\n",
              "      <th>...</th>\n",
              "      <td>...</td>\n",
              "      <td>...</td>\n",
              "    </tr>\n",
              "    <tr>\n",
              "      <th>53749</th>\n",
              "      <td>진짜 왜 공중화장실들은 소변기가 바로 직빵으로 보이게 되어있는거냐 문만 살짝살짝 열...</td>\n",
              "      <td>NaN</td>\n",
              "    </tr>\n",
              "    <tr>\n",
              "      <th>53750</th>\n",
              "      <td>너무멋있어</td>\n",
              "      <td>NaN</td>\n",
              "    </tr>\n",
              "    <tr>\n",
              "      <th>53751</th>\n",
              "      <td>솔직히 남자화장실 다 보인느거 ㅈ가틈</td>\n",
              "      <td>NaN</td>\n",
              "    </tr>\n",
              "    <tr>\n",
              "      <th>53752</th>\n",
              "      <td>6985추</td>\n",
              "      <td>NaN</td>\n",
              "    </tr>\n",
              "    <tr>\n",
              "      <th>53753</th>\n",
              "      <td>들어가서 싸든가 그럼ㅋㅋ븅</td>\n",
              "      <td>NaN</td>\n",
              "    </tr>\n",
              "  </tbody>\n",
              "</table>\n",
              "<p>53754 rows × 2 columns</p>\n",
              "</div>\n",
              "      <button class=\"colab-df-convert\" onclick=\"convertToInteractive('df-742ec16d-e861-44ce-b98e-99ef2d89b075')\"\n",
              "              title=\"Convert this dataframe to an interactive table.\"\n",
              "              style=\"display:none;\">\n",
              "        \n",
              "  <svg xmlns=\"http://www.w3.org/2000/svg\" height=\"24px\"viewBox=\"0 0 24 24\"\n",
              "       width=\"24px\">\n",
              "    <path d=\"M0 0h24v24H0V0z\" fill=\"none\"/>\n",
              "    <path d=\"M18.56 5.44l.94 2.06.94-2.06 2.06-.94-2.06-.94-.94-2.06-.94 2.06-2.06.94zm-11 1L8.5 8.5l.94-2.06 2.06-.94-2.06-.94L8.5 2.5l-.94 2.06-2.06.94zm10 10l.94 2.06.94-2.06 2.06-.94-2.06-.94-.94-2.06-.94 2.06-2.06.94z\"/><path d=\"M17.41 7.96l-1.37-1.37c-.4-.4-.92-.59-1.43-.59-.52 0-1.04.2-1.43.59L10.3 9.45l-7.72 7.72c-.78.78-.78 2.05 0 2.83L4 21.41c.39.39.9.59 1.41.59.51 0 1.02-.2 1.41-.59l7.78-7.78 2.81-2.81c.8-.78.8-2.07 0-2.86zM5.41 20L4 18.59l7.72-7.72 1.47 1.35L5.41 20z\"/>\n",
              "  </svg>\n",
              "      </button>\n",
              "      \n",
              "  <style>\n",
              "    .colab-df-container {\n",
              "      display:flex;\n",
              "      flex-wrap:wrap;\n",
              "      gap: 12px;\n",
              "    }\n",
              "\n",
              "    .colab-df-convert {\n",
              "      background-color: #E8F0FE;\n",
              "      border: none;\n",
              "      border-radius: 50%;\n",
              "      cursor: pointer;\n",
              "      display: none;\n",
              "      fill: #1967D2;\n",
              "      height: 32px;\n",
              "      padding: 0 0 0 0;\n",
              "      width: 32px;\n",
              "    }\n",
              "\n",
              "    .colab-df-convert:hover {\n",
              "      background-color: #E2EBFA;\n",
              "      box-shadow: 0px 1px 2px rgba(60, 64, 67, 0.3), 0px 1px 3px 1px rgba(60, 64, 67, 0.15);\n",
              "      fill: #174EA6;\n",
              "    }\n",
              "\n",
              "    [theme=dark] .colab-df-convert {\n",
              "      background-color: #3B4455;\n",
              "      fill: #D2E3FC;\n",
              "    }\n",
              "\n",
              "    [theme=dark] .colab-df-convert:hover {\n",
              "      background-color: #434B5C;\n",
              "      box-shadow: 0px 1px 3px 1px rgba(0, 0, 0, 0.15);\n",
              "      filter: drop-shadow(0px 1px 2px rgba(0, 0, 0, 0.3));\n",
              "      fill: #FFFFFF;\n",
              "    }\n",
              "  </style>\n",
              "\n",
              "      <script>\n",
              "        const buttonEl =\n",
              "          document.querySelector('#df-742ec16d-e861-44ce-b98e-99ef2d89b075 button.colab-df-convert');\n",
              "        buttonEl.style.display =\n",
              "          google.colab.kernel.accessAllowed ? 'block' : 'none';\n",
              "\n",
              "        async function convertToInteractive(key) {\n",
              "          const element = document.querySelector('#df-742ec16d-e861-44ce-b98e-99ef2d89b075');\n",
              "          const dataTable =\n",
              "            await google.colab.kernel.invokeFunction('convertToInteractive',\n",
              "                                                     [key], {});\n",
              "          if (!dataTable) return;\n",
              "\n",
              "          const docLinkHtml = 'Like what you see? Visit the ' +\n",
              "            '<a target=\"_blank\" href=https://colab.research.google.com/notebooks/data_table.ipynb>data table notebook</a>'\n",
              "            + ' to learn more about interactive tables.';\n",
              "          element.innerHTML = '';\n",
              "          dataTable['output_type'] = 'display_data';\n",
              "          await google.colab.output.renderOutput(dataTable, element);\n",
              "          const docLink = document.createElement('div');\n",
              "          docLink.innerHTML = docLinkHtml;\n",
              "          element.appendChild(docLink);\n",
              "        }\n",
              "      </script>\n",
              "    </div>\n",
              "  </div>\n",
              "  "
            ]
          },
          "metadata": {},
          "execution_count": 4
        }
      ]
    },
    {
      "cell_type": "code",
      "source": [
        "# 라벨링 하지 않은 줄 제거\n",
        "comment = comment.dropna(axis=0)\n",
        "\n",
        "# 공백확인\n",
        "comment['data'].isnull().sum() "
      ],
      "metadata": {
        "id": "g7CgDNRpXMUA",
        "colab": {
          "base_uri": "https://localhost:8080/"
        },
        "outputId": "dde5cb77-7e5c-4d6a-9734-22a4b8f14c09"
      },
      "execution_count": 5,
      "outputs": [
        {
          "output_type": "execute_result",
          "data": {
            "text/plain": [
              "0"
            ]
          },
          "metadata": {},
          "execution_count": 5
        }
      ]
    },
    {
      "cell_type": "code",
      "source": [
        "# 한글인지 확인\n",
        "import sys\n",
        "\n",
        "def is_hangul(text):\n",
        "    hanCount = len(re.findall(u'[\\u3130-\\u318F\\uAC00-\\uD7A3]+', text))\n",
        "    return hanCount > 0\n",
        "\n",
        "comment['is_hangul'] = comment['data'].apply(is_hangul)\n",
        "not_hangul = comment[comment['is_hangul'] == False].index\n",
        "comment = comment.drop(not_hangul)\n",
        "comment.reset_index(drop=True, inplace=True)\n",
        "comment"
      ],
      "metadata": {
        "id": "Y7AYh_uvXOo3",
        "colab": {
          "base_uri": "https://localhost:8080/",
          "height": 528
        },
        "outputId": "5b709c15-f462-42aa-a54a-91dc6023271a"
      },
      "execution_count": 6,
      "outputs": [
        {
          "output_type": "stream",
          "name": "stderr",
          "text": [
            "/usr/local/lib/python3.7/dist-packages/ipykernel_launcher.py:8: SettingWithCopyWarning: \n",
            "A value is trying to be set on a copy of a slice from a DataFrame.\n",
            "Try using .loc[row_indexer,col_indexer] = value instead\n",
            "\n",
            "See the caveats in the documentation: https://pandas.pydata.org/pandas-docs/stable/user_guide/indexing.html#returning-a-view-versus-a-copy\n",
            "  \n"
          ]
        },
        {
          "output_type": "execute_result",
          "data": {
            "text/plain": [
              "                                        data  label  is_hangul\n",
              "0     힛갤가고서 힛갤곤볼한번 받아보고싶었는데 하루늦어서이걸못받네좀빨리만들껄    0.0       True\n",
              "1                                    3줄요약 ㄷㄷ    0.0       True\n",
              "2                                         ㅋㅋ    0.0       True\n",
              "3                                힛갤뱃지 나도줘요      0.0       True\n",
              "4                                        나도줘    0.0       True\n",
              "...                                      ...    ...        ...\n",
              "4666      뭔 퀘하고왔다고 자리라한 새끼 기억나네 인기도 내리고 튐ㅋㅋㅋ    1.0       True\n",
              "4667           응우옌고로시 ㅋㅋㅋㅋㅋㅋㅋㅋㅋㅋㅋㅋㅋㅋㅋㅋㅋㅋㅋㅋㅋㅋ    0.0       True\n",
              "4668                                   이게 뭔데    0.0       True\n",
              "4669                            몇신지 보기도 힘들겠다    0.0       True\n",
              "4670                         씹덕보고 바로내리고 비추      1.0       True\n",
              "\n",
              "[4671 rows x 3 columns]"
            ],
            "text/html": [
              "\n",
              "  <div id=\"df-58984719-547f-470d-82a9-d00ac6525955\">\n",
              "    <div class=\"colab-df-container\">\n",
              "      <div>\n",
              "<style scoped>\n",
              "    .dataframe tbody tr th:only-of-type {\n",
              "        vertical-align: middle;\n",
              "    }\n",
              "\n",
              "    .dataframe tbody tr th {\n",
              "        vertical-align: top;\n",
              "    }\n",
              "\n",
              "    .dataframe thead th {\n",
              "        text-align: right;\n",
              "    }\n",
              "</style>\n",
              "<table border=\"1\" class=\"dataframe\">\n",
              "  <thead>\n",
              "    <tr style=\"text-align: right;\">\n",
              "      <th></th>\n",
              "      <th>data</th>\n",
              "      <th>label</th>\n",
              "      <th>is_hangul</th>\n",
              "    </tr>\n",
              "  </thead>\n",
              "  <tbody>\n",
              "    <tr>\n",
              "      <th>0</th>\n",
              "      <td>힛갤가고서 힛갤곤볼한번 받아보고싶었는데 하루늦어서이걸못받네좀빨리만들껄</td>\n",
              "      <td>0.0</td>\n",
              "      <td>True</td>\n",
              "    </tr>\n",
              "    <tr>\n",
              "      <th>1</th>\n",
              "      <td>3줄요약 ㄷㄷ</td>\n",
              "      <td>0.0</td>\n",
              "      <td>True</td>\n",
              "    </tr>\n",
              "    <tr>\n",
              "      <th>2</th>\n",
              "      <td>ㅋㅋ</td>\n",
              "      <td>0.0</td>\n",
              "      <td>True</td>\n",
              "    </tr>\n",
              "    <tr>\n",
              "      <th>3</th>\n",
              "      <td>힛갤뱃지 나도줘요</td>\n",
              "      <td>0.0</td>\n",
              "      <td>True</td>\n",
              "    </tr>\n",
              "    <tr>\n",
              "      <th>4</th>\n",
              "      <td>나도줘</td>\n",
              "      <td>0.0</td>\n",
              "      <td>True</td>\n",
              "    </tr>\n",
              "    <tr>\n",
              "      <th>...</th>\n",
              "      <td>...</td>\n",
              "      <td>...</td>\n",
              "      <td>...</td>\n",
              "    </tr>\n",
              "    <tr>\n",
              "      <th>4666</th>\n",
              "      <td>뭔 퀘하고왔다고 자리라한 새끼 기억나네 인기도 내리고 튐ㅋㅋㅋ</td>\n",
              "      <td>1.0</td>\n",
              "      <td>True</td>\n",
              "    </tr>\n",
              "    <tr>\n",
              "      <th>4667</th>\n",
              "      <td>응우옌고로시 ㅋㅋㅋㅋㅋㅋㅋㅋㅋㅋㅋㅋㅋㅋㅋㅋㅋㅋㅋㅋㅋㅋ</td>\n",
              "      <td>0.0</td>\n",
              "      <td>True</td>\n",
              "    </tr>\n",
              "    <tr>\n",
              "      <th>4668</th>\n",
              "      <td>이게 뭔데</td>\n",
              "      <td>0.0</td>\n",
              "      <td>True</td>\n",
              "    </tr>\n",
              "    <tr>\n",
              "      <th>4669</th>\n",
              "      <td>몇신지 보기도 힘들겠다</td>\n",
              "      <td>0.0</td>\n",
              "      <td>True</td>\n",
              "    </tr>\n",
              "    <tr>\n",
              "      <th>4670</th>\n",
              "      <td>씹덕보고 바로내리고 비추</td>\n",
              "      <td>1.0</td>\n",
              "      <td>True</td>\n",
              "    </tr>\n",
              "  </tbody>\n",
              "</table>\n",
              "<p>4671 rows × 3 columns</p>\n",
              "</div>\n",
              "      <button class=\"colab-df-convert\" onclick=\"convertToInteractive('df-58984719-547f-470d-82a9-d00ac6525955')\"\n",
              "              title=\"Convert this dataframe to an interactive table.\"\n",
              "              style=\"display:none;\">\n",
              "        \n",
              "  <svg xmlns=\"http://www.w3.org/2000/svg\" height=\"24px\"viewBox=\"0 0 24 24\"\n",
              "       width=\"24px\">\n",
              "    <path d=\"M0 0h24v24H0V0z\" fill=\"none\"/>\n",
              "    <path d=\"M18.56 5.44l.94 2.06.94-2.06 2.06-.94-2.06-.94-.94-2.06-.94 2.06-2.06.94zm-11 1L8.5 8.5l.94-2.06 2.06-.94-2.06-.94L8.5 2.5l-.94 2.06-2.06.94zm10 10l.94 2.06.94-2.06 2.06-.94-2.06-.94-.94-2.06-.94 2.06-2.06.94z\"/><path d=\"M17.41 7.96l-1.37-1.37c-.4-.4-.92-.59-1.43-.59-.52 0-1.04.2-1.43.59L10.3 9.45l-7.72 7.72c-.78.78-.78 2.05 0 2.83L4 21.41c.39.39.9.59 1.41.59.51 0 1.02-.2 1.41-.59l7.78-7.78 2.81-2.81c.8-.78.8-2.07 0-2.86zM5.41 20L4 18.59l7.72-7.72 1.47 1.35L5.41 20z\"/>\n",
              "  </svg>\n",
              "      </button>\n",
              "      \n",
              "  <style>\n",
              "    .colab-df-container {\n",
              "      display:flex;\n",
              "      flex-wrap:wrap;\n",
              "      gap: 12px;\n",
              "    }\n",
              "\n",
              "    .colab-df-convert {\n",
              "      background-color: #E8F0FE;\n",
              "      border: none;\n",
              "      border-radius: 50%;\n",
              "      cursor: pointer;\n",
              "      display: none;\n",
              "      fill: #1967D2;\n",
              "      height: 32px;\n",
              "      padding: 0 0 0 0;\n",
              "      width: 32px;\n",
              "    }\n",
              "\n",
              "    .colab-df-convert:hover {\n",
              "      background-color: #E2EBFA;\n",
              "      box-shadow: 0px 1px 2px rgba(60, 64, 67, 0.3), 0px 1px 3px 1px rgba(60, 64, 67, 0.15);\n",
              "      fill: #174EA6;\n",
              "    }\n",
              "\n",
              "    [theme=dark] .colab-df-convert {\n",
              "      background-color: #3B4455;\n",
              "      fill: #D2E3FC;\n",
              "    }\n",
              "\n",
              "    [theme=dark] .colab-df-convert:hover {\n",
              "      background-color: #434B5C;\n",
              "      box-shadow: 0px 1px 3px 1px rgba(0, 0, 0, 0.15);\n",
              "      filter: drop-shadow(0px 1px 2px rgba(0, 0, 0, 0.3));\n",
              "      fill: #FFFFFF;\n",
              "    }\n",
              "  </style>\n",
              "\n",
              "      <script>\n",
              "        const buttonEl =\n",
              "          document.querySelector('#df-58984719-547f-470d-82a9-d00ac6525955 button.colab-df-convert');\n",
              "        buttonEl.style.display =\n",
              "          google.colab.kernel.accessAllowed ? 'block' : 'none';\n",
              "\n",
              "        async function convertToInteractive(key) {\n",
              "          const element = document.querySelector('#df-58984719-547f-470d-82a9-d00ac6525955');\n",
              "          const dataTable =\n",
              "            await google.colab.kernel.invokeFunction('convertToInteractive',\n",
              "                                                     [key], {});\n",
              "          if (!dataTable) return;\n",
              "\n",
              "          const docLinkHtml = 'Like what you see? Visit the ' +\n",
              "            '<a target=\"_blank\" href=https://colab.research.google.com/notebooks/data_table.ipynb>data table notebook</a>'\n",
              "            + ' to learn more about interactive tables.';\n",
              "          element.innerHTML = '';\n",
              "          dataTable['output_type'] = 'display_data';\n",
              "          await google.colab.output.renderOutput(dataTable, element);\n",
              "          const docLink = document.createElement('div');\n",
              "          docLink.innerHTML = docLinkHtml;\n",
              "          element.appendChild(docLink);\n",
              "        }\n",
              "      </script>\n",
              "    </div>\n",
              "  </div>\n",
              "  "
            ]
          },
          "metadata": {},
          "execution_count": 6
        }
      ]
    },
    {
      "cell_type": "code",
      "source": [
        "# 욕 문장과 일반 문장 개수 확인\n",
        "comment['label'].value_counts()"
      ],
      "metadata": {
        "colab": {
          "base_uri": "https://localhost:8080/"
        },
        "id": "tRPQK5nVcPFi",
        "outputId": "40eb385a-7019-4e53-ad21-ba08b0a116f3"
      },
      "execution_count": 7,
      "outputs": [
        {
          "output_type": "execute_result",
          "data": {
            "text/plain": [
              "0.0    3812\n",
              "1.0     859\n",
              "Name: label, dtype: int64"
            ]
          },
          "metadata": {},
          "execution_count": 7
        }
      ]
    },
    {
      "cell_type": "markdown",
      "source": [
        "## 임베딩"
      ],
      "metadata": {
        "id": "7wNqmQRibowu"
      }
    },
    {
      "cell_type": "code",
      "source": [
        "# 자모 단위로 분리 \n",
        "CHOSUNGS = [u'ㄱ',u'ㄲ',u'ㄴ',u'ㄷ',u'ㄸ',u'ㄹ',u'ㅁ',u'ㅂ',u'ㅃ',u'ㅅ',u'ㅆ',u'ㅇ',u'ㅈ',u'ㅉ',u'ㅊ',u'ㅋ',u'ㅌ',u'ㅍ',u'ㅎ']\n",
        "JOONGSUNGS = [u'ㅏ',u'ㅐ',u'ㅑ',u'ㅒ',u'ㅓ',u'ㅔ',u'ㅕ',u'ㅖ',u'ㅗ',u'ㅘ',u'ㅙ',u'ㅚ',u'ㅛ',u'ㅜ',u'ㅝ',u'ㅞ',u'ㅟ',u'ㅠ',u'ㅡ',u'ㅢ',u'ㅣ']\n",
        "JONGSUNGS = [u'',u'ㄱ',u'ㄲ',u'ㄳ',u'ㄴ',u'ㄵ',u'ㄶ',u'ㄷ',u'ㄹ',u'ㄺ',u'ㄻ',u'ㄼ',u'ㄽ',u'ㄾ',u'ㄿ',u'ㅀ',u'ㅁ',u'ㅂ',u'ㅄ',u'ㅅ',u'ㅆ',u'ㅇ',u'ㅈ',u'ㅊ',u'ㅋ',u'ㅌ',u'ㅍ',u'ㅎ']\n",
        "\n",
        "NUM_CHOSUNGS = 19\n",
        "NUM_JOONGSUNGS = 21\n",
        "NUM_JONGSUNGS = 28\n",
        "\n",
        "FIRST_HANGUL_UNICODE = 0xAC00 #'가'\n",
        "LAST_HANGUL_UNICODE = 0xD7A3 #'힣'\n",
        "\n",
        "def decompose(hangul_letter): \n",
        "\n",
        "    if ord('ㄱ') <= ord(hangul_letter) <= ord('ㆆ'):\n",
        "        return [hangul_letter]\n",
        "    elif ord('ㅏ') <= ord(hangul_letter) <= ord('ᆢ'):\n",
        "        return [hangul_letter]\n",
        "    if len(hangul_letter) < 1:\n",
        "        raise NotLetterException('')\n",
        "    elif not is_hangul(hangul_letter):\n",
        "        raise NotHangulException('')\n",
        "    \n",
        "    code = ord(hangul_letter) - FIRST_HANGUL_UNICODE\n",
        "    jongsung_index = code % NUM_JONGSUNGS\n",
        "    code /= NUM_JONGSUNGS\n",
        "    code = int(code)\n",
        "    joongsung_index = code % NUM_JOONGSUNGS\n",
        "    code /= NUM_JOONGSUNGS\n",
        "    code = int(code)\n",
        "    chosung_index = code\n",
        "    \n",
        "    return (CHOSUNGS[chosung_index], JOONGSUNGS[joongsung_index], JONGSUNGS[jongsung_index])\n",
        "\n",
        "class NotHangulException(Exception):\n",
        "    pass\n",
        "\n",
        "class NotLetterException(Exception):\n",
        "    pass\n",
        "\n",
        "class NotWordException(Exception):\n",
        "    pass\n",
        "\n",
        "\n",
        "# embedding\n",
        "# 문장 입력받아서 분리\n",
        "def decompose_string(text): \n",
        "    result = []\n",
        "    for c in text:\n",
        "        if is_hangul(c):\n",
        "            result += [decompose(c)]\n",
        "    return result"
      ],
      "metadata": {
        "id": "7Uxaoy1Hta7f"
      },
      "execution_count": 8,
      "outputs": []
    },
    {
      "cell_type": "code",
      "source": [
        "comment['decompose_string'] = comment['data'].apply(decompose_string)\n",
        "comment['decompose_string'] "
      ],
      "metadata": {
        "id": "regzqGRy13Oq",
        "colab": {
          "base_uri": "https://localhost:8080/"
        },
        "outputId": "dea90c06-91c3-4dfa-d2df-81632d92c215"
      },
      "execution_count": 9,
      "outputs": [
        {
          "output_type": "execute_result",
          "data": {
            "text/plain": [
              "0       [(ㅎ, ㅣ, ㅅ), (ㄱ, ㅐ, ㄹ), (ㄱ, ㅏ, ), (ㄱ, ㅗ, ), (ㅅ,...\n",
              "1              [(ㅈ, ㅜ, ㄹ), (ㅇ, ㅛ, ), (ㅇ, ㅑ, ㄱ), [ㄷ], [ㄷ]]\n",
              "2                                              [[ㅋ], [ㅋ]]\n",
              "3       [(ㅎ, ㅣ, ㅅ), (ㄱ, ㅐ, ㄹ), (ㅂ, ㅐ, ㅅ), (ㅈ, ㅣ, ), (ㄴ...\n",
              "4                          [(ㄴ, ㅏ, ), (ㄷ, ㅗ, ), (ㅈ, ㅝ, )]\n",
              "                              ...                        \n",
              "4666    [(ㅁ, ㅝ, ㄴ), (ㅋ, ㅞ, ), (ㅎ, ㅏ, ), (ㄱ, ㅗ, ), (ㅇ, ...\n",
              "4667    [(ㅇ, ㅡ, ㅇ), (ㅇ, ㅜ, ), (ㅇ, ㅖ, ㄴ), (ㄱ, ㅗ, ), (ㄹ,...\n",
              "4668            [(ㅇ, ㅣ, ), (ㄱ, ㅔ, ), (ㅁ, ㅝ, ㄴ), (ㄷ, ㅔ, )]\n",
              "4669    [(ㅁ, ㅕ, ㅊ), (ㅅ, ㅣ, ㄴ), (ㅈ, ㅣ, ), (ㅂ, ㅗ, ), (ㄱ,...\n",
              "4670    [(ㅆ, ㅣ, ㅂ), (ㄷ, ㅓ, ㄱ), (ㅂ, ㅗ, ), (ㄱ, ㅗ, ), (ㅂ,...\n",
              "Name: decompose_string, Length: 4671, dtype: object"
            ]
          },
          "metadata": {},
          "execution_count": 9
        }
      ]
    },
    {
      "cell_type": "code",
      "source": [
        "jamo = comment['decompose_string']\n",
        "comment['decompose_string'][0]"
      ],
      "metadata": {
        "id": "WGEMid8z1RfF"
      },
      "execution_count": null,
      "outputs": []
    },
    {
      "cell_type": "code",
      "source": [
        "def to_index_array(decomposed, dict):\n",
        "    result = []\n",
        "    for c in decomposed:\n",
        "        for jamo in c:\n",
        "            result.append(dict[jamo])\n",
        "    return result"
      ],
      "metadata": {
        "id": "wWUr8Epy2wyK"
      },
      "execution_count": 11,
      "outputs": []
    },
    {
      "cell_type": "code",
      "source": [
        "import csv\n",
        "import torch\n",
        "import torch.nn as nn\n",
        "\n",
        "jamo_dictionary = dict()\n",
        "\n",
        "def add_to_dict(decomposed):\n",
        "    for c in decomposed:\n",
        "        for jamo in c:\n",
        "            if jamo not in jamo_dictionary:\n",
        "                jamo_dictionary[jamo] = 1 + len(jamo_dictionary)\n",
        "\n",
        "def padding(arr, N):\n",
        "    l = len(arr)\n",
        "    if l > N:\n",
        "        return arr[:N]\n",
        "    else:\n",
        "        for i in range(N-l):\n",
        "            arr.append(0)\n",
        "        return arr\n",
        "\n",
        "def to_embedded_tensor():\n",
        "    strings = []\n",
        "    labels = []\n",
        "    for idx, line in comment.iterrows():\n",
        "        s = line[0]\n",
        "        decomposed = decompose_string(s)\n",
        "        strings.append(decomposed)\n",
        "        labels.append(int(line[1]))\n",
        "        add_to_dict(decomposed)\n",
        "    maxlen = 0\n",
        "    for i in range(len(strings)):\n",
        "        strings[i] = to_index_array(strings[i], jamo_dictionary)\n",
        "        l = len(strings[i])\n",
        "        maxlen = l if l > maxlen else maxlen\n",
        "\n",
        "    # padding\n",
        "    for i in range(len(strings)):\n",
        "        strings[i] = padding(strings[i], maxlen)\n",
        "\n",
        "    return strings, labels, (len(jamo_dictionary)+1)"
      ],
      "metadata": {
        "id": "6j7SneJjCdJY"
      },
      "execution_count": 47,
      "outputs": []
    },
    {
      "cell_type": "markdown",
      "source": [
        "## 모델 학습"
      ],
      "metadata": {
        "id": "9w3jGLu01LTs"
      }
    },
    {
      "cell_type": "code",
      "source": [
        "import numpy as np\n",
        "import pandas as pd\n",
        "\n",
        "import torch\n",
        "import torch.nn as nn\n",
        "import torch.optim as optim\n",
        "\n",
        "import matplotlib.pyplot as plt"
      ],
      "metadata": {
        "id": "4bKYRFW9i-33"
      },
      "execution_count": 14,
      "outputs": []
    },
    {
      "cell_type": "code",
      "source": [
        "N_TESTDATA = 100\n",
        "N_EPOCH = 24\n",
        "\n",
        "x, y, words = to_embedded_tensor()\n",
        "x, y = torch.LongTensor(x), torch.FloatTensor(y)\n",
        "x_train = x[N_TESTDATA:]\n",
        "y_train = y[N_TESTDATA:]\n",
        "x_test = x[:N_TESTDATA]\n",
        "y_test = y[:N_TESTDATA]\n",
        "\n",
        "# print(x_train, y_train)\n",
        "# print(x_test, y_test)\n",
        "print(words)"
      ],
      "metadata": {
        "id": "KB7jvkyPi3PS",
        "colab": {
          "base_uri": "https://localhost:8080/"
        },
        "outputId": "823faaaa-7085-46fb-e9f2-3e3fda780eac"
      },
      "execution_count": 48,
      "outputs": [
        {
          "output_type": "stream",
          "name": "stdout",
          "text": [
            "51\n"
          ]
        }
      ]
    },
    {
      "cell_type": "code",
      "source": [
        "# 워드 임베딩\n",
        "import torch.nn as nn\n",
        "\n",
        "# torch.nn.Embedding(num_embeddings, embedding_dim, padding_idx=None, max_norm=None, norm_type=2.0, scale_grad_by_freq=False, sparse=False, _weight=None)\n",
        "embedding_layer = nn.Embedding(num_embeddings = words, embedding_dim = 300, padding_idx = 1)\n",
        "embedding_layer"
      ],
      "metadata": {
        "colab": {
          "base_uri": "https://localhost:8080/"
        },
        "id": "5ohwhEDm8B-1",
        "outputId": "527fd565-76a7-42d3-8961-dcd974da615e"
      },
      "execution_count": 49,
      "outputs": [
        {
          "output_type": "execute_result",
          "data": {
            "text/plain": [
              "Embedding(51, 300, padding_idx=1)"
            ]
          },
          "metadata": {},
          "execution_count": 49
        }
      ]
    },
    {
      "cell_type": "code",
      "source": [
        "input_size = words\n",
        "output_size = words\n",
        "num_epochs = 2000\n",
        "print_every = 100\n",
        "plot_every = 10\n",
        "\n",
        "# chunk에 대한 설명은 아래 함수정의하면서 하겠습니다.\n",
        "chunk_len = 200\n",
        "\n",
        "hidden_size = 100\n",
        "batch_size = 1\n",
        "num_layers = 1\n",
        "embedding_size = 70\n",
        "lr = 0.002"
      ],
      "metadata": {
        "id": "HbxIByCB8yH9"
      },
      "execution_count": 50,
      "outputs": []
    },
    {
      "cell_type": "code",
      "source": [
        "class RNN(nn.Module):\n",
        "    def __init__(self, input_size, embedding_size, hidden_size, output_size, num_layers=1):\n",
        "        super(RNN, self).__init__()\n",
        "        self.input_size = input_size\n",
        "        self.embedding_size = embedding_size\n",
        "        self.hidden_size = hidden_size\n",
        "        self.output_size = output_size\n",
        "        self.num_layers = num_layers\n",
        "        \n",
        "        self.encoder = nn.Embedding(self.input_size, self.embedding_size)\n",
        "        self.rnn = nn.RNN(self.embedding_size,self.hidden_size,self.num_layers)\n",
        "        self.decoder = nn.Linear(self.hidden_size, self.output_size)\n",
        "        \n",
        "    \n",
        "    def forward(self, input):\n",
        "        out = self.encoder(input.view(1,-1))\n",
        "        # out,hidden = self.rnn(out,hidden)\n",
        "        out = self.decoder(out.view(batch_size,-1))\n",
        "        return out,hidden\n",
        "\n",
        "    def init_hidden(self):\n",
        "        hidden = torch.zeros(self.num_layers, batch_size, self.hidden_size)\n",
        "        return hidden\n",
        "    \n",
        "# model = RNN(input_size, embedding_size, hidden_size, output_size, num_layers)"
      ],
      "metadata": {
        "id": "B6ALegQms16P"
      },
      "execution_count": 51,
      "outputs": []
    },
    {
      "cell_type": "code",
      "source": [
        "model = RNN(input_size=words, \n",
        "            embedding_size=embedding_size,\n",
        "            hidden_size=hidden_size, \n",
        "            output_size=words, \n",
        "            num_layers=2)"
      ],
      "metadata": {
        "id": "J-t3CECKs4ZV"
      },
      "execution_count": 52,
      "outputs": []
    },
    {
      "cell_type": "code",
      "source": [
        "optimizer = torch.optim.Adam(model.parameters(), lr=lr)\n",
        "loss_func = nn.CrossEntropyLoss()"
      ],
      "metadata": {
        "id": "nK0zYYwos6dI"
      },
      "execution_count": 53,
      "outputs": []
    },
    {
      "cell_type": "code",
      "source": [
        "class Net(nn.Module):\n",
        "    def __init__(self, vocab_size, input_size, hidden_size, batch_first=True):\n",
        "        super(Net, self).__init__()\n",
        "        self.embedding_layer = nn.Embedding(num_embeddings=vocab_size, # 워드 임베딩\n",
        "                                            embedding_dim=input_size)\n",
        "        self.rnn_layer = nn.RNN(input_size, hidden_size, # 입력 차원, 은닉 상태의 크기 정의\n",
        "                                batch_first=batch_first)\n",
        "        self.linear = nn.Linear(hidden_size, vocab_size) # 출력은 원-핫 벡터의 크기를 가져야함. 또는 단어 집합의 크기만큼 가져야함.\n",
        "\n",
        "    def forward(self, x):\n",
        "        # 1. 임베딩 층\n",
        "        # 크기변화: (배치 크기, 시퀀스 길이) => (배치 크기, 시퀀스 길이, 임베딩 차원)\n",
        "        output = self.embedding_layer(x)\n",
        "        # 2. RNN 층\n",
        "        # 크기변화: (배치 크기, 시퀀스 길이, 임베딩 차원)\n",
        "        # => output (배치 크기, 시퀀스 길이, 은닉층 크기), hidden (1, 배치 크기, 은닉층 크기)\n",
        "        output, hidden = self.rnn_layer(output)\n",
        "        # 3. 최종 출력층\n",
        "        # 크기변화: (배치 크기, 시퀀스 길이, 은닉층 크기) => (배치 크기, 시퀀스 길이, 단어장 크기)\n",
        "        output = self.linear(output)\n",
        "        # 4. view를 통해서 배치 차원 제거\n",
        "        # 크기변화: (배치 크기, 시퀀스 길이, 단어장 크기) => (배치 크기*시퀀스 길이, 단어장 크기)\n",
        "        return output.view(-1, output.size(2))"
      ],
      "metadata": {
        "id": "6jIDEQBx4e4q"
      },
      "execution_count": 54,
      "outputs": []
    },
    {
      "cell_type": "code",
      "source": [
        "# 모델 생성\n",
        "model = Net(words, input_size, hidden_size, batch_first=True)\n",
        "# 손실함수 정의\n",
        "loss_function = nn.CrossEntropyLoss() # 소프트맥스 함수 포함이며 실제값은 원-핫 인코딩 안 해도 됨.\n",
        "# 옵티마이저 정의\n",
        "optimizer = optim.Adam(params=model.parameters())"
      ],
      "metadata": {
        "id": "g4JI6bMK4k_d"
      },
      "execution_count": 44,
      "outputs": []
    },
    {
      "cell_type": "code",
      "source": [
        "output = model(x_train)"
      ],
      "metadata": {
        "id": "7c1Nx9RK23wF"
      },
      "execution_count": null,
      "outputs": []
    },
    {
      "cell_type": "code",
      "source": [
        "acc_list = []\n",
        "\n",
        "for i in range(num_epochs):\n",
        "    # 랜덤한 텍스트 덩어리를 샘플링하고 이를 인덱스 텐서로 변환합니다. \n",
        "    inp,label = random_training_set()\n",
        "    hidden = model.init_hidden()\n",
        "\n",
        "    loss = torch.tensor([0]).type(torch.FloatTensor)\n",
        "    optimizer.zero_grad()\n",
        "    for j in range(chunk_len-1):\n",
        "        x  = inp[j]\n",
        "        y_ = label[j].unsqueeze(0).type(torch.LongTensor)\n",
        "        y,hidden = model(x,hidden)\n",
        "        loss += loss_func(y,y_)\n",
        "\n",
        "    loss.backward()\n",
        "    optimizer.step()\n",
        "    \n",
        "    if i % 100 == 0:\n",
        "        print(\"\\n\",loss/chunk_len,\"\\n\")\n",
        "        acc_list.append(loss/chunk_len)\n",
        "        test()\n",
        "        print(\"\\n\",\"=\"*100)"
      ],
      "metadata": {
        "id": "PfpgaYL-wACQ"
      },
      "execution_count": null,
      "outputs": []
    },
    {
      "cell_type": "markdown",
      "source": [
        "## 모델 테스트"
      ],
      "metadata": {
        "id": "0wQrCd9LewdD"
      }
    },
    {
      "cell_type": "code",
      "source": [
        "import pickle\n",
        "import tensorflow as tf\n",
        "import numpy as np\n",
        "# from keras.preprocessing import sequence\n",
        "\n",
        "MAX_LEN = 681\n",
        "with open('jamo.pydict', 'rb') as f:\n",
        "    jamodict = pickle.load(f)\n",
        "\n",
        "def encode_review(text):\n",
        "    text = decompose_string(text)\n",
        "    text = to_index_array(text, jamodict)\n",
        "    text = padding(text, MAX_LEN)\n",
        "    return text\n",
        "\n",
        "def predict_test(text):\n",
        "    model = tf.keras.models.load_model('./latest-yok-detect-model.h5')\n",
        "    graph =  tf.compat.v1.get_default_graph() #  tf.compat.v1.get_default_graph\n",
        "\n",
        "    indices = encode_review(text)\n",
        "    indices = np.array([indices])\n",
        "    with graph.as_default():\n",
        "        # result = model.predict_classes(indices)\n",
        "        result = model.predict(indices) \n",
        "        result = result.argmax(axis=-1)\n",
        "\n",
        "    yok_type = ''\n",
        "    if result == 0:\n",
        "        yok_type = '욕아님'\n",
        "    else:\n",
        "        yok_type = '욕'\n",
        "    return yok_type"
      ],
      "metadata": {
        "id": "UtRT0zpUeVrN"
      },
      "execution_count": null,
      "outputs": []
    },
    {
      "cell_type": "code",
      "source": [
        "yok_type = predict_test('이게뭔데') # 테스트 데이터 따로 만들기\n",
        "yok_type"
      ],
      "metadata": {
        "id": "y0E70knye5F-"
      },
      "execution_count": null,
      "outputs": []
    },
    {
      "cell_type": "code",
      "source": [
        "! pip install --upgrade tensorflow==2.5.0"
      ],
      "metadata": {
        "id": "bSYYwzrqp47f"
      },
      "execution_count": null,
      "outputs": []
    }
  ]
}